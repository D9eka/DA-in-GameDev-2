{
 "cells": [
  {
   "cell_type": "code",
   "execution_count": 4,
   "id": "2d6bca12",
   "metadata": {},
   "outputs": [
    {
     "name": "stdout",
     "output_type": "stream",
     "text": [
      "33,82\n",
      "75,07\n",
      "92,7\n",
      "19,6\n",
      "92,54\n",
      "17,42\n",
      "79,5\n",
      "45,26\n",
      "77,08\n",
      "86,47\n"
     ]
    }
   ],
   "source": [
    "import gspread\n",
    "import numpy as np\n",
    "gc = gspread.service_account(filename='da-in-gamedev-2-a92933725ef8.json')\n",
    "sh = gc.open(\"DA-in-GameDev-2\")\n",
    "money_for_restoration = 200000\n",
    "price = np.random.randint(10000, 200000, 11)\n",
    "mon = list(range(1,11))\n",
    "i = 0\n",
    "while i <= len(mon) - 1:\n",
    "    i += 1\n",
    "    if i == 0:\n",
    "        continue\n",
    "    else:\n",
    "        restoration_percent = round((price[i] / money_for_restoration) * 100, 2)\n",
    "        restoration_percent = str(restoration_percent)\n",
    "        restoration_percent = restoration_percent.replace('.',',')\n",
    "        sh.sheet1.update(('A' + str(i)), str(i))\n",
    "        sh.sheet1.update(('B' + str(i)), str(restoration_percent))\n",
    "        print(restoration_percent)"
   ]
  },
  {
   "cell_type": "code",
   "execution_count": null,
   "id": "5f5c3622",
   "metadata": {},
   "outputs": [],
   "source": []
  },
  {
   "cell_type": "code",
   "execution_count": null,
   "id": "2ff701d8",
   "metadata": {},
   "outputs": [],
   "source": []
  }
 ],
 "metadata": {
  "kernelspec": {
   "display_name": "Python 3 (ipykernel)",
   "language": "python",
   "name": "python3"
  },
  "language_info": {
   "codemirror_mode": {
    "name": "ipython",
    "version": 3
   },
   "file_extension": ".py",
   "mimetype": "text/x-python",
   "name": "python",
   "nbconvert_exporter": "python",
   "pygments_lexer": "ipython3",
   "version": "3.11.4"
  }
 },
 "nbformat": 4,
 "nbformat_minor": 5
}
